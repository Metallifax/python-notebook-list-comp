{
 "cells": [
  {
   "cell_type": "markdown",
   "metadata": {},
   "source": [
    "## List Comprehension with Manuel Lorenz\n",
    "\n",
    "Why it's useful:\n",
    "\n",
    "- Manipulating List Items\n",
    "- Extracting Information\n",
    "- Filtering Lists"
   ]
  },
  {
   "cell_type": "markdown",
   "metadata": {},
   "source": [
    "### List Comprehension Logic\n",
    "\n",
    "Existing List\n",
    "```python\n",
    "my_list = [1, 2, 3]\n",
    "```\n",
    "Action:\n",
    "Multiply all list items by 2"
   ]
  },
  {
   "cell_type": "code",
   "execution_count": 8,
   "metadata": {},
   "outputs": [
    {
     "data": {
      "text/plain": [
       "[2, 4, 6]"
      ]
     },
     "execution_count": 8,
     "metadata": {},
     "output_type": "execute_result"
    }
   ],
   "source": [
    "# Not exactly list comprehension\n",
    "double = []\n",
    "my_list = [1, 2 ,3]\n",
    "for item in my_list:\n",
    "    double.append(item*2)\n",
    "double"
   ]
  },
  {
   "cell_type": "code",
   "execution_count": 10,
   "metadata": {},
   "outputs": [
    {
     "data": {
      "text/plain": [
       "[2, 4, 6]"
      ]
     },
     "execution_count": 10,
     "metadata": {},
     "output_type": "execute_result"
    }
   ],
   "source": [
    "# Thats better!\n",
    "double = [item*2 for item in my_list]\n",
    "double"
   ]
  },
  {
   "cell_type": "code",
   "execution_count": 34,
   "metadata": {},
   "outputs": [
    {
     "name": "stdout",
     "output_type": "stream",
     "text": [
      "['Matt', 'Manuel', 'Dirk'] [31, 30, 38]\n"
     ]
    }
   ],
   "source": [
    "# Now for something different\n",
    "users = [\n",
    "    {'name': 'Matt', 'age': 31}, \n",
    "    {'name':'Manuel', 'age':30}, \n",
    "    {'name':'Dirk', 'age': 38}\n",
    "]\n",
    "\n",
    "user_name = [user['name'] for user in users]\n",
    "user_age = [user['age'] for user in users]\n",
    "print(user_name, user_age)"
   ]
  },
  {
   "cell_type": "code",
   "execution_count": 35,
   "metadata": {},
   "outputs": [
    {
     "data": {
      "text/plain": [
       "[['Matt', 31], ['Manuel', 30], ['Dirk', 38]]"
      ]
     },
     "execution_count": 35,
     "metadata": {},
     "output_type": "execute_result"
    }
   ],
   "source": [
    "# My Own Comprehension\n",
    "users_array = [[user['name'], user['age']] for user in users]\n",
    "users_array"
   ]
  },
  {
   "cell_type": "code",
   "execution_count": 42,
   "metadata": {},
   "outputs": [
    {
     "data": {
      "text/plain": [
       "['Manuel', 'Julie']"
      ]
     },
     "execution_count": 42,
     "metadata": {},
     "output_type": "execute_result"
    }
   ],
   "source": [
    "user_groups = [\n",
    "    [\n",
    "        {'name':'Manuel', 'age':31},\n",
    "        {'name':'Max', 'age':30}\n",
    "    ],\n",
    "    [\n",
    "        {'name':'Sarah', 'age':29},\n",
    "        {'name':'Julie', 'age':32}\n",
    "    ]\n",
    "]\n",
    "\n",
    "# Nested list comprehensions\n",
    "user_names = [person['name'] for group in user_groups for person in group if person['age'] > 30]\n",
    "user_names"
   ]
  },
  {
   "cell_type": "code",
   "execution_count": null,
   "metadata": {},
   "outputs": [],
   "source": []
  }
 ],
 "metadata": {
  "kernelspec": {
   "display_name": "Python 3",
   "language": "python",
   "name": "python3"
  },
  "language_info": {
   "codemirror_mode": {
    "name": "ipython",
    "version": 3
   },
   "file_extension": ".py",
   "mimetype": "text/x-python",
   "name": "python",
   "nbconvert_exporter": "python",
   "pygments_lexer": "ipython3",
   "version": "3.8.6"
  }
 },
 "nbformat": 4,
 "nbformat_minor": 4
}
